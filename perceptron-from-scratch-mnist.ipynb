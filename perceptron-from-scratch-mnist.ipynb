{
 "cells": [
  {
   "cell_type": "code",
   "execution_count": 1,
   "metadata": {
    "id": "wiidTHoXXdKX"
   },
   "outputs": [
    {
     "name": "stderr",
     "output_type": "stream",
     "text": [
      "/Users/yehiaabdelmohsen/opt/anaconda3/lib/python3.8/site-packages/scipy/__init__.py:138: UserWarning: A NumPy version >=1.16.5 and <1.23.0 is required for this version of SciPy (detected version 1.24.1)\n",
      "  warnings.warn(f\"A NumPy version >={np_minversion} and <{np_maxversion} is required for this version of \"\n"
     ]
    }
   ],
   "source": [
    "from PIL import Image\n",
    "import numpy as np\n",
    "import math\n",
    "from tqdm import tqdm\n",
    "from sklearn import metrics"
   ]
  },
  {
   "cell_type": "code",
   "execution_count": 2,
   "metadata": {},
   "outputs": [],
   "source": [
    "TRAIN_PATH = 'Train/'\n",
    "TEST_PATH = 'Test/'"
   ]
  },
  {
   "cell_type": "code",
   "execution_count": 3,
   "metadata": {
    "colab": {
     "base_uri": "https://localhost:8080/"
    },
    "id": "C-cf_Q67rsQy",
    "outputId": "e2e3537f-6c46-4cd9-f5be-be07d70e3d7d"
   },
   "outputs": [
    {
     "name": "stderr",
     "output_type": "stream",
     "text": [
      "100%|██████████| 2401/2401 [00:01<00:00, 2281.74it/s]\n"
     ]
    }
   ],
   "source": [
    "# Train images\n",
    "images = []\n",
    "labels = []\n",
    "for i in tqdm(range(0,2401)):\n",
    "  if i!=2400:\n",
    "    im = Image.open(f'{TRAIN_PATH}{i+1}.jpg')\n",
    "    im = np.asarray(im)\n",
    "    im = im.reshape(784)\n",
    "    im = np.append(im,[1])\n",
    "    labels.append(math.trunc(i/240))\n",
    "    images.append(im)"
   ]
  },
  {
   "cell_type": "code",
   "execution_count": 4,
   "metadata": {
    "colab": {
     "base_uri": "https://localhost:8080/"
    },
    "id": "M_IFu2QxKNCt",
    "outputId": "61ca215e-1ce3-4fce-beec-311f391fb9d7",
    "scrolled": false
   },
   "outputs": [
    {
     "name": "stderr",
     "output_type": "stream",
     "text": [
      "100%|██████████| 201/201 [00:00<00:00, 2164.20it/s]\n"
     ]
    }
   ],
   "source": [
    "# Test images\n",
    "images_test = []\n",
    "labels_test = []\n",
    "for i in tqdm(range(0,201)):\n",
    "    if i!=200:\n",
    "        im = Image.open(f'{TEST_PATH}{i+1}.jpg')\n",
    "        im = np.asarray(im)\n",
    "        im = im.reshape(784)\n",
    "        im = np.append(im,[1])\n",
    "        labels_test.append(math.trunc(i/20))\n",
    "        images_test.append(im)"
   ]
  },
  {
   "cell_type": "code",
   "execution_count": 5,
   "metadata": {
    "id": "Zk4ozgcLr-XP"
   },
   "outputs": [],
   "source": [
    "def perceptron(data, rate, labels,epochs):\n",
    "  w = np.tile(np.append(1,np.zeros(784)),(10,1)) # weights for the 10 digits 10*785 matrix\n",
    "  im = data.copy()\n",
    "  lab = labels.copy()\n",
    "  for j in tqdm(range(10)):\n",
    "    l =[]\n",
    "    for k in range(len(im)):\n",
    "      if lab[k]!=j:\n",
    "        l.append(-1)\n",
    "      else:\n",
    "        l.append(1)\n",
    "    for i in range(epochs):\n",
    "      for z in range(len(im)): # going through all the points for each epoch and breaking when we find a misclassified point\n",
    "        y = np.matmul(w[j],im[z])\n",
    "        if y*l[z]<0:\n",
    "          w[j] = w[j] + np.multiply(im[z],rate*l[z])\n",
    "          break\n",
    "\n",
    "  return w"
   ]
  },
  {
   "cell_type": "code",
   "execution_count": 6,
   "metadata": {
    "id": "RPFktotMK7F6"
   },
   "outputs": [],
   "source": [
    "def predict(weights,label,data):\n",
    "  d = data.copy()\n",
    "  labels = label.copy()\n",
    "  w = weights.copy()\n",
    "  pred = []\n",
    "  for i in range(len(data)):\n",
    "    t = np.argmax(np.dot(w,d[i]))\n",
    "    pred.append(t)\n",
    "  print(\"Accuracy:\",metrics.accuracy_score(labels, pred))\n",
    "  print(metrics.confusion_matrix(labels, pred))"
   ]
  },
  {
   "cell_type": "markdown",
   "metadata": {
    "id": "hfKC61d4J2-X"
   },
   "source": [
    "\n",
    "### η=1\n"
   ]
  },
  {
   "cell_type": "code",
   "execution_count": 7,
   "metadata": {
    "colab": {
     "base_uri": "https://localhost:8080/"
    },
    "id": "rN9lj2ai_kNO",
    "outputId": "18e36fe8-5bfb-4c1f-8228-2c95547a0981",
    "scrolled": true
   },
   "outputs": [
    {
     "name": "stderr",
     "output_type": "stream",
     "text": [
      "100%|██████████| 10/10 [00:30<00:00,  3.08s/it]\n"
     ]
    }
   ],
   "source": [
    "w1 = perceptron(data = images, rate =1, labels=labels, epochs=1000)"
   ]
  },
  {
   "cell_type": "code",
   "execution_count": 8,
   "metadata": {
    "colab": {
     "base_uri": "https://localhost:8080/"
    },
    "id": "suY6Ez9qRQDt",
    "outputId": "942cb8b6-d67c-4d50-b2c6-140788027bdb",
    "scrolled": false
   },
   "outputs": [
    {
     "name": "stdout",
     "output_type": "stream",
     "text": [
      "Accuracy: 0.72\n",
      "[[18  0  0  0  0  0  1  1  0  0]\n",
      " [ 0 20  0  0  0  0  0  0  0  0]\n",
      " [ 0  1 17  1  0  0  0  0  1  0]\n",
      " [ 0  0  1 19  0  0  0  0  0  0]\n",
      " [ 0  0  1  3 16  0  0  0  0  0]\n",
      " [ 0  0  2 10  0  7  0  0  1  0]\n",
      " [ 0  0  5  0  0  0 15  0  0  0]\n",
      " [ 0  0  0  4  0  0  0 16  0  0]\n",
      " [ 0  0  0  5  0  1  0  0 14  0]\n",
      " [ 0  0  4  3  7  0  0  4  0  2]]\n"
     ]
    }
   ],
   "source": [
    "predict(w1,labels_test,images_test)"
   ]
  },
  {
   "cell_type": "markdown",
   "metadata": {
    "id": "C49nwv-hSJ10"
   },
   "source": [
    "\n",
    "### η=0.1"
   ]
  },
  {
   "cell_type": "code",
   "execution_count": 9,
   "metadata": {
    "colab": {
     "base_uri": "https://localhost:8080/",
     "height": 294
    },
    "id": "M0GRLpu2SF8b",
    "outputId": "a240d11b-295e-46ae-eba8-d6f5b27cb590"
   },
   "outputs": [
    {
     "name": "stderr",
     "output_type": "stream",
     "text": [
      "100%|██████████| 10/10 [00:32<00:00,  3.23s/it]\n"
     ]
    }
   ],
   "source": [
    "w2 = perceptron(data = images, rate =0.1, labels=labels, epochs=1000)"
   ]
  },
  {
   "cell_type": "code",
   "execution_count": 10,
   "metadata": {
    "id": "UU7BPDsSSHKf",
    "scrolled": true
   },
   "outputs": [
    {
     "name": "stdout",
     "output_type": "stream",
     "text": [
      "Accuracy: 0.72\n",
      "[[18  0  0  0  0  0  1  1  0  0]\n",
      " [ 0 20  0  0  0  0  0  0  0  0]\n",
      " [ 0  1 17  1  0  0  0  0  1  0]\n",
      " [ 0  0  1 19  0  0  0  0  0  0]\n",
      " [ 0  0  1  3 16  0  0  0  0  0]\n",
      " [ 0  0  2 10  0  7  0  0  1  0]\n",
      " [ 0  0  5  0  0  0 15  0  0  0]\n",
      " [ 0  0  0  4  0  0  0 16  0  0]\n",
      " [ 0  0  0  5  0  1  0  0 14  0]\n",
      " [ 0  0  4  3  7  0  0  4  0  2]]\n"
     ]
    }
   ],
   "source": [
    "predict(w2,labels_test,images_test)"
   ]
  },
  {
   "cell_type": "markdown",
   "metadata": {
    "id": "9otXArzvSWw_"
   },
   "source": [
    "### η=0.01"
   ]
  },
  {
   "cell_type": "code",
   "execution_count": 11,
   "metadata": {
    "id": "ae6lH_ABSeNG",
    "scrolled": true
   },
   "outputs": [
    {
     "name": "stderr",
     "output_type": "stream",
     "text": [
      "100%|██████████| 10/10 [00:31<00:00,  3.15s/it]\n"
     ]
    }
   ],
   "source": [
    "w3 = perceptron(data = images, rate =0.01, labels=labels, epochs=1000)"
   ]
  },
  {
   "cell_type": "code",
   "execution_count": 12,
   "metadata": {
    "id": "FoRBCVgQSeNH",
    "scrolled": true
   },
   "outputs": [
    {
     "name": "stdout",
     "output_type": "stream",
     "text": [
      "Accuracy: 0.72\n",
      "[[18  0  0  0  0  0  1  1  0  0]\n",
      " [ 0 20  0  0  0  0  0  0  0  0]\n",
      " [ 0  1 17  1  0  0  0  0  1  0]\n",
      " [ 0  0  1 19  0  0  0  0  0  0]\n",
      " [ 0  0  1  3 16  0  0  0  0  0]\n",
      " [ 0  0  2 10  0  7  0  0  1  0]\n",
      " [ 0  0  5  0  0  0 15  0  0  0]\n",
      " [ 0  0  0  4  0  0  0 16  0  0]\n",
      " [ 0  0  0  5  0  1  0  0 14  0]\n",
      " [ 0  0  4  3  7  0  0  4  0  2]]\n"
     ]
    }
   ],
   "source": [
    "predict(w3,labels_test,images_test)"
   ]
  },
  {
   "cell_type": "markdown",
   "metadata": {
    "id": "1UwbGritSX4O"
   },
   "source": [
    "### η=0.001"
   ]
  },
  {
   "cell_type": "code",
   "execution_count": 13,
   "metadata": {
    "id": "5Lwt1QxYSg5g"
   },
   "outputs": [
    {
     "name": "stderr",
     "output_type": "stream",
     "text": [
      "100%|██████████| 10/10 [00:30<00:00,  3.08s/it]\n"
     ]
    }
   ],
   "source": [
    "w4 = perceptron(data = images, rate =0.001, labels=labels, epochs=1000)"
   ]
  },
  {
   "cell_type": "code",
   "execution_count": 14,
   "metadata": {
    "id": "ByKORSltSg5h",
    "scrolled": true
   },
   "outputs": [
    {
     "name": "stdout",
     "output_type": "stream",
     "text": [
      "Accuracy: 0.735\n",
      "[[18  0  0  0  0  0  1  1  0  0]\n",
      " [ 0 20  0  0  0  0  0  0  0  0]\n",
      " [ 0  1 16  1  1  0  0  0  1  0]\n",
      " [ 0  0  0 19  1  0  0  0  0  0]\n",
      " [ 0  0  1  1 18  0  0  0  0  0]\n",
      " [ 0  0  1 12  1  5  0  0  1  0]\n",
      " [ 0  0  4  0  0  0 16  0  0  0]\n",
      " [ 0  0  0  2  0  0  0 18  0  0]\n",
      " [ 0  0  0  4  0  1  0  0 15  0]\n",
      " [ 0  0  3  2  8  0  0  5  0  2]]\n"
     ]
    }
   ],
   "source": [
    "predict(w4,labels_test,images_test)"
   ]
  },
  {
   "cell_type": "markdown",
   "metadata": {
    "id": "wKLjaKTrS0cz"
   },
   "source": [
    "### η=0.0001"
   ]
  },
  {
   "cell_type": "code",
   "execution_count": 15,
   "metadata": {
    "id": "XhtiJ7UUSiWo"
   },
   "outputs": [
    {
     "name": "stderr",
     "output_type": "stream",
     "text": [
      "100%|██████████| 10/10 [00:32<00:00,  3.23s/it]\n"
     ]
    }
   ],
   "source": [
    "w5 = perceptron(data = images, rate =0.0001, labels=labels, epochs=1000)"
   ]
  },
  {
   "cell_type": "code",
   "execution_count": 16,
   "metadata": {
    "id": "zbMGZENGSiWp"
   },
   "outputs": [
    {
     "name": "stdout",
     "output_type": "stream",
     "text": [
      "Accuracy: 0.73\n",
      "[[18  0  0  0  0  0  1  1  0  0]\n",
      " [ 0 19  1  0  0  0  0  0  0  0]\n",
      " [ 0  1 16  1  0  0  0  1  1  0]\n",
      " [ 0  0  2 18  0  0  0  0  0  0]\n",
      " [ 0  0  1  3 16  0  0  0  0  0]\n",
      " [ 0  0  3  8  0  9  0  0  0  0]\n",
      " [ 0  0  4  0  0  0 16  0  0  0]\n",
      " [ 0  0  0  2  0  0  0 18  0  0]\n",
      " [ 0  0  2  4  0  1  0  0 12  1]\n",
      " [ 0  0  5  1  6  0  0  4  0  4]]\n"
     ]
    }
   ],
   "source": [
    "predict(w5,labels_test,images_test)"
   ]
  },
  {
   "cell_type": "markdown",
   "metadata": {
    "id": "e9D54L_5TEZI"
   },
   "source": [
    "### η=0.00001"
   ]
  },
  {
   "cell_type": "code",
   "execution_count": 17,
   "metadata": {
    "id": "bzwo0QDESifV"
   },
   "outputs": [
    {
     "name": "stderr",
     "output_type": "stream",
     "text": [
      "100%|██████████| 10/10 [00:31<00:00,  3.15s/it]\n"
     ]
    }
   ],
   "source": [
    "w6 = perceptron(data = images, rate =0.00001, labels=labels, epochs=1000)"
   ]
  },
  {
   "cell_type": "code",
   "execution_count": 18,
   "metadata": {
    "id": "-aO9rgSpSifW"
   },
   "outputs": [
    {
     "name": "stdout",
     "output_type": "stream",
     "text": [
      "Accuracy: 0.79\n",
      "[[18  0  0  0  1  0  1  0  0  0]\n",
      " [ 0 20  0  0  0  0  0  0  0  0]\n",
      " [ 0  1 16  1  1  0  0  0  1  0]\n",
      " [ 0  0  0 18  2  0  0  0  0  0]\n",
      " [ 0  0  1  0 17  0  0  0  2  0]\n",
      " [ 0  0  2  6  0 11  0  0  1  0]\n",
      " [ 0  0  3  0  0  0 17  0  0  0]\n",
      " [ 0  0  0  2  0  0  0 18  0  0]\n",
      " [ 0  0  0  1  0  0  0  0 19  0]\n",
      " [ 1  0  3  1  5  0  0  4  2  4]]\n"
     ]
    }
   ],
   "source": [
    "predict(w6,labels_test,images_test)"
   ]
  },
  {
   "cell_type": "markdown",
   "metadata": {
    "id": "mwwi4sdCTSVl"
   },
   "source": [
    "### η=0.000001"
   ]
  },
  {
   "cell_type": "code",
   "execution_count": 19,
   "metadata": {
    "id": "bcjejJ0VSioD"
   },
   "outputs": [
    {
     "name": "stderr",
     "output_type": "stream",
     "text": [
      "100%|██████████| 10/10 [00:31<00:00,  3.12s/it]\n"
     ]
    }
   ],
   "source": [
    "w7 = perceptron(data = images, rate =0.000001, labels=labels, epochs=1000)"
   ]
  },
  {
   "cell_type": "code",
   "execution_count": 20,
   "metadata": {
    "id": "6USTHkZqSioD"
   },
   "outputs": [
    {
     "name": "stdout",
     "output_type": "stream",
     "text": [
      "Accuracy: 0.67\n",
      "[[18  0  0  0  1  0  1  0  0  0]\n",
      " [ 0 20  0  0  0  0  0  0  0  0]\n",
      " [ 0  1 16  1  1  0  0  0  1  0]\n",
      " [ 0  0  1 19  0  0  0  0  0  0]\n",
      " [ 0  0  1  4 15  0  0  0  0  0]\n",
      " [ 0  0  2  9  1  8  0  0  0  0]\n",
      " [ 0  0  5  0  0  0 15  0  0  0]\n",
      " [ 0  0  1  2  7  0  0 10  0  0]\n",
      " [ 0  0  0 10  0  0  0  0  8  2]\n",
      " [ 0  0  3  2  7  0  0  3  0  5]]\n"
     ]
    }
   ],
   "source": [
    "predict(w7,labels_test,images_test)"
   ]
  },
  {
   "cell_type": "markdown",
   "metadata": {
    "id": "g9q9ngP1Taqs"
   },
   "source": [
    "### η=0.0000001"
   ]
  },
  {
   "cell_type": "code",
   "execution_count": 21,
   "metadata": {
    "id": "icGFYl_ZSixA"
   },
   "outputs": [
    {
     "name": "stderr",
     "output_type": "stream",
     "text": [
      "100%|██████████| 10/10 [00:27<00:00,  2.76s/it]\n"
     ]
    }
   ],
   "source": [
    "w8 = perceptron(data = images, rate =0.0000001, labels=labels, epochs=1000)"
   ]
  },
  {
   "cell_type": "code",
   "execution_count": 22,
   "metadata": {
    "id": "c2WnwjQ-SixA"
   },
   "outputs": [
    {
     "name": "stdout",
     "output_type": "stream",
     "text": [
      "Accuracy: 0.68\n",
      "[[19  0  0  0  1  0  0  0  0  0]\n",
      " [ 0 20  0  0  0  0  0  0  0  0]\n",
      " [ 0  0 19  0  0  0  1  0  0  0]\n",
      " [ 0  0  2 18  0  0  0  0  0  0]\n",
      " [ 0  1  1  1 16  0  0  0  1  0]\n",
      " [ 2  0  1 11  0  6  0  0  0  0]\n",
      " [ 0  0  3  0  2  1 14  0  0  0]\n",
      " [ 1  0  1  1  4  0  0 13  0  0]\n",
      " [ 1  0  3  4  0  2  0  0 10  0]\n",
      " [ 1  0  4  3  9  0  0  2  0  1]]\n"
     ]
    }
   ],
   "source": [
    "predict(w8,labels_test,images_test)"
   ]
  },
  {
   "cell_type": "markdown",
   "metadata": {
    "id": "-OAPz0CgTj-a"
   },
   "source": [
    "### η=0.00000001"
   ]
  },
  {
   "cell_type": "code",
   "execution_count": 23,
   "metadata": {
    "id": "U4NoHjibTmoL"
   },
   "outputs": [
    {
     "name": "stderr",
     "output_type": "stream",
     "text": [
      "100%|██████████| 10/10 [00:18<00:00,  1.83s/it]\n"
     ]
    }
   ],
   "source": [
    "w9 = perceptron(data = images, rate =0.00000001, labels=labels, epochs=1000)"
   ]
  },
  {
   "cell_type": "code",
   "execution_count": 24,
   "metadata": {
    "id": "Ok7U_GC5TmoM"
   },
   "outputs": [
    {
     "name": "stdout",
     "output_type": "stream",
     "text": [
      "Accuracy: 0.27\n",
      "[[20  0  0  0  0  0  0  0  0  0]\n",
      " [ 0 20  0  0  0  0  0  0  0  0]\n",
      " [ 4  2 14  0  0  0  0  0  0  0]\n",
      " [ 3  3 14  0  0  0  0  0  0  0]\n",
      " [ 5  6  9  0  0  0  0  0  0  0]\n",
      " [14  1  3  2  0  0  0  0  0  0]\n",
      " [11  0  9  0  0  0  0  0  0  0]\n",
      " [15  2  3  0  0  0  0  0  0  0]\n",
      " [11  4  5  0  0  0  0  0  0  0]\n",
      " [ 9  1 10  0  0  0  0  0  0  0]]\n"
     ]
    }
   ],
   "source": [
    "predict(w9,labels_test,images_test)"
   ]
  },
  {
   "cell_type": "markdown",
   "metadata": {
    "id": "gejpW5maTrCI"
   },
   "source": [
    "### η=0.000000001"
   ]
  },
  {
   "cell_type": "code",
   "execution_count": 25,
   "metadata": {
    "id": "ZFU_YmomTnDv"
   },
   "outputs": [
    {
     "name": "stderr",
     "output_type": "stream",
     "text": [
      "100%|██████████| 10/10 [00:06<00:00,  1.47it/s]\n"
     ]
    }
   ],
   "source": [
    "w10 = perceptron(data = images, rate =0.000000001, labels=labels, epochs=1000)"
   ]
  },
  {
   "cell_type": "code",
   "execution_count": 26,
   "metadata": {
    "id": "pmtKphNgTnDv"
   },
   "outputs": [
    {
     "name": "stdout",
     "output_type": "stream",
     "text": [
      "Accuracy: 0.2\n",
      "[[20  0  0  0  0  0  0  0  0  0]\n",
      " [ 0 20  0  0  0  0  0  0  0  0]\n",
      " [18  2  0  0  0  0  0  0  0  0]\n",
      " [17  3  0  0  0  0  0  0  0  0]\n",
      " [13  7  0  0  0  0  0  0  0  0]\n",
      " [19  1  0  0  0  0  0  0  0  0]\n",
      " [17  3  0  0  0  0  0  0  0  0]\n",
      " [13  7  0  0  0  0  0  0  0  0]\n",
      " [18  2  0  0  0  0  0  0  0  0]\n",
      " [16  4  0  0  0  0  0  0  0  0]]\n"
     ]
    }
   ],
   "source": [
    "predict(w10,labels_test,images_test)"
   ]
  }
 ],
 "metadata": {
  "accelerator": "GPU",
  "colab": {
   "collapsed_sections": [],
   "provenance": []
  },
  "gpuClass": "standard",
  "kernelspec": {
   "display_name": "Python 3",
   "language": "python",
   "name": "python3"
  },
  "language_info": {
   "codemirror_mode": {
    "name": "ipython",
    "version": 3
   },
   "file_extension": ".py",
   "mimetype": "text/x-python",
   "name": "python",
   "nbconvert_exporter": "python",
   "pygments_lexer": "ipython3",
   "version": "3.8.8"
  },
  "vscode": {
   "interpreter": {
    "hash": "c9c915e58d3b8e263b6df6bfb8733d72be7999ff616c3ddbc4b04405370eb269"
   }
  }
 },
 "nbformat": 4,
 "nbformat_minor": 1
}
